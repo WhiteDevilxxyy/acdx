{
  "nbformat": 4,
  "nbformat_minor": 0,
  "metadata": {
    "colab": {
      "provenance": []
    },
    "kernelspec": {
      "name": "python3",
      "display_name": "Python 3"
    },
    "language_info": {
      "name": "python"
    }
  },
  "cells": [
    {
      "cell_type": "code",
      "execution_count": null,
      "metadata": {
        "id": "PtUSlOJmaDeM"
      },
      "outputs": [],
      "source": [
        "#predictive parsing table\n",
        "terminals=['+', '*', 'i', ')', '(', 'e']\n",
        "result={'E': [['T', \"E'\"]], 'T': [['F', \"T'\"]], 'F': [['(', 'E', ')'], ['i']], \"E'\": [['+', 'T', \"E'\"], ['e']], \"T'\": [['*', 'F', \"T'\"], ['e']]}\n",
        "firsts={'E': ['(', 'i'], 'T': ['(', 'i'], 'F': ['(', 'i'], \"E'\": ['+', 'e'], \"T'\": ['*', 'e']}\n",
        "resMod={'E': [\"TE'\"], 'T': [\"FT'\"], 'F': ['(E)', 'i'], \"E'\": [\"+TE'\", 'e'], \"T'\": [\"*FT'\", 'e']}\n",
        "follows={'E': [')', '$'], 'T': [')', '+', '$'], 'F': ['+', ')', '*', '$'], \"E'\": [')', '$'], \"T'\": [')', '+', '$']}\n",
        "\n",
        "tterm = list(terminals)\n",
        "tterm.pop(tterm.index(\"e\"))\n",
        "tterm+=[\"$\"]\n",
        "pptable = {}\n",
        "for i in result:\n",
        "\tfor j in tterm:\n",
        "\t\tif j in firsts[i]:\n",
        "\t\t\tpptable[(i,j)]=resMod[i][0]\n",
        "\t\telse:\n",
        "\t\t\tpptable[(i,j)]=\"\"\n",
        "\tif \"e\" in firsts[i]:\n",
        "\t\tfor j in tterm:\n",
        "\t\t\tif j in follows[i]:\n",
        "\t\t\t\tpptable[(i,j)]=\"e\"\n",
        "pptable[(\"F\",\"i\")] = \"i\"\n",
        "toprint = f'{\"\": <10}'\n",
        "for i in tterm:\n",
        "\ttoprint+= f'|{i: <10}'\n",
        "print(toprint)\n",
        "for i in result:\n",
        "\ttoprint = f'{i: <10}'\n",
        "\tfor j in tterm:\n",
        "\t\tif pptable[(i,j)]!=\"\":\n",
        "\t\t\ttoprint+=f'|{i+\"->\"+pptable[(i,j)]: <10}'\n",
        "\t\telse:\n",
        "\t\t\ttoprint+=f'|{pptable[(i,j)]: <10}'\n",
        "\tprint(f'{\"-\":-<76}')\n",
        "\tprint(toprint)"
      ]
    }
  ]
}