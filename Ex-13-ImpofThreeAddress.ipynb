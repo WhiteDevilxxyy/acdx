{
  "nbformat": 4,
  "nbformat_minor": 0,
  "metadata": {
    "colab": {
      "provenance": []
    },
    "kernelspec": {
      "name": "python3",
      "display_name": "Python 3"
    },
    "language_info": {
      "name": "python"
    }
  },
  "cells": [
    {
      "cell_type": "code",
      "execution_count": null,
      "metadata": {
        "id": "D2OH8aycZLhp"
      },
      "outputs": [],
      "source": [
        "class Triple:\n",
        "    def _init_(self, op, arg1, arg2, result):\n",
        "        self.op = op\n",
        "        self.arg1 = arg1\n",
        "        self.arg2 = arg2\n",
        "        self.result = result\n",
        "\n",
        "    def _str_(self):\n",
        "        return f\"({self.op}, {self.arg1}, {self.arg2}, {self.result})\"\n",
        "\n",
        "\n",
        "class Quadruple:\n",
        "    def _init_(self, op, arg1, arg2, result):\n",
        "        self.op = op\n",
        "        self.arg1 = arg1\n",
        "        self.arg2 = arg2\n",
        "        self.result = result\n",
        "\n",
        "    def _str_(self):\n",
        "        return f\"({self.op}, {self.arg1}, {self.arg2}, {self.result})\"\n",
        "\n",
        "\n",
        "class CodeGenerator:\n",
        "    def _init_(self):\n",
        "        self.triples = []\n",
        "        self.quadruples = []\n",
        "\n",
        "    def gen_triple(self, op, arg1, arg2, result):\n",
        "        triple = Triple(op, arg1, arg2, result)\n",
        "        self.triples.append(triple)\n",
        "\n",
        "    def gen_quadruple(self, op, arg1, arg2, result):\n",
        "        quadruple = Quadruple(op, arg1, arg2, result)\n",
        "        self.quadruples.append(quadruple)\n",
        "\n",
        "    def display_triples(self):\n",
        "        print(\"Generated Triples:\")\n",
        "        for index, triple in enumerate(self.triples):\n",
        "            print(f\"T{index + 1}: {triple}\")\n",
        "\n",
        "    def display_quadruples(self):\n",
        "        print(\"Generated Quadruples:\")\n",
        "        for index, quadruple in enumerate(self.quadruples):\n",
        "            print(f\"Q{index + 1}: {quadruple}\")\n",
        "\n",
        "\n",
        "def main():\n",
        "    generator = CodeGenerator()\n",
        "\n",
        "    num_statements = int(input(\"Enter the number of statements: \"))\n",
        "\n",
        "    for i in range(num_statements):\n",
        "        op = input(f\"Enter operation for statement {i+1}: \")\n",
        "        arg1 = input(\"Enter arg1: \")\n",
        "        arg2 = input(\"Enter arg2: \")\n",
        "        result = input(\"Enter result: \")\n",
        "\n",
        "        generator.gen_triple(op, arg1, arg2, result)\n",
        "        generator.gen_quadruple(op, arg1, arg2, result)\n",
        "\n",
        "    generator.display_triples()\n",
        "    print()\n",
        "    generator.display_quadruples()\n",
        "\n",
        "\n",
        "if _name_ == \"_main_\":\n",
        "    main()"
      ]
    }
  ]
}