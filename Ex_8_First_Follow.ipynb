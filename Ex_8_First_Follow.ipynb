{
  "nbformat": 4,
  "nbformat_minor": 0,
  "metadata": {
    "colab": {
      "provenance": []
    },
    "kernelspec": {
      "name": "python3",
      "display_name": "Python 3"
    },
    "language_info": {
      "name": "python"
    }
  },
  "cells": [
    {
      "cell_type": "code",
      "execution_count": 1,
      "metadata": {
        "colab": {
          "base_uri": "https://localhost:8080/"
        },
        "id": "wSO2kiDceJKr",
        "outputId": "39c412fd-9aad-45fb-c575-4ee7f70651d1"
      },
      "outputs": [
        {
          "output_type": "stream",
          "name": "stdout",
          "text": [
            "First(E): ['(', 'i']\n",
            "First(T): ['(', 'i']\n",
            "First(F): ['(', 'i']\n",
            "First(E'): ['+', 'e']\n",
            "First(T'): ['*', 'e']\n",
            "Firsts are {'E': ['(', 'i'], 'T': ['(', 'i'], 'F': ['(', 'i'], \"E'\": ['+', 'e'], \"T'\": ['*', 'e']}\n",
            "Follow(E): [')', '$']\n",
            "Follow(T): [')', '+', '$']\n",
            "Follow(F): [')', '+', '*', '$']\n",
            "Follow(E'): [')', '$']\n",
            "Follow(T'): [')', '+', '$']\n"
          ]
        }
      ],
      "source": [
        "gram = {\n",
        "\t\"E\":[\"E+T\",\"T\"],\n",
        "\t\"T\":[\"T*F\",\"F\"],\n",
        "\t\"F\":[\"(E)\",\"i\"]\n",
        "}\n",
        "result={'E': [['T', \"E'\"]], 'T': [['F', \"T'\"]], 'F': [['(', 'E', ')'], ['i']], \"E'\": [['+', 'T', \"E'\"], ['e']], \"T'\": [['*', 'F', \"T'\"], ['e']]}\n",
        "def first(gram, term):\n",
        "\ta = []\n",
        "\tif term not in gram:\n",
        "\t\treturn [term]\n",
        "\tfor i in gram[term]:\n",
        "\t\tif i[0] not in gram:\n",
        "\t\t\ta.append(i[0])\n",
        "\t\telif i[0] in gram:\n",
        "\t\t\ta += first(gram, i[0])\n",
        "\treturn a\n",
        "def follow(gram, term):\n",
        "\ta = []\n",
        "\tfor rule in gram:\n",
        "\t\tfor i in gram[rule]:\n",
        "\t\t\tif term in i:\n",
        "\t\t\t\ttemp = i\n",
        "\t\t\t\tindx = i.index(term)\n",
        "\t\t\t\tif indx+1!=len(i):\n",
        "\t\t\t\t\tif i[-1] in firsts:\n",
        "\t\t\t\t\t\ta+=firsts[i[-1]]\n",
        "\t\t\t\t\telse:\n",
        "\t\t\t\t\t\ta+=[i[-1]]\n",
        "\t\t\t\telse:\n",
        "\t\t\t\t\ta+=[\"e\"]\n",
        "\t\t\t\tif rule != term and \"e\" in a:\n",
        "\t\t\t\t\ta+= follow(gram,rule)\n",
        "\treturn a\n",
        "firsts = {}\n",
        "for i in result:\n",
        "\tfirsts[i] = first(result,i)\n",
        "\tprint(f'First({i}):',firsts[i])\n",
        "print(f\"Firsts are {firsts}\")\n",
        "\n",
        "follows = {}\n",
        "for i in result:\n",
        "\tfollows[i] = list(set(follow(result,i)))\n",
        "\tif \"e\" in follows[i]:\n",
        "\t\tfollows[i].pop(follows[i].index(\"e\"))\n",
        "\tfollows[i]+=[\"$\"]\n",
        "\tprint(f'Follow({i}):',follows[i])"
      ]
    }
  ]
}