{
  "cells": [
    {
      "cell_type": "code",
      "source": [
        "def generate_temp():\n",
        "    global temp_counter\n",
        "    temp_name = f\"temp{temp_counter}\"\n",
        "    temp_counter += 1\n",
        "    return temp_name\n",
        "\n",
        "def generate_three_address_code(expression):\n",
        "    tokens = expression.split()\n",
        "    operator_stack = []\n",
        "    operand_stack = []\n",
        "    temp_code = []\n",
        "    assignment_target = None\n",
        "\n",
        "    while tokens:\n",
        "        token = tokens.pop(0)\n",
        "        if token.isdigit() or token.isalpha():\n",
        "            operand_stack.append(token)\n",
        "        elif token in ['+', '-', '*', '/', '<', '>', '<=', '>=', '==', '&&']:\n",
        "            while operator_stack and operator_stack[-1] in ['+', '-', '*', '/', '<', '>', '<=', '>=', '==']:\n",
        "                op = operator_stack.pop()\n",
        "                operand2 = operand_stack.pop()\n",
        "                operand1 = operand_stack.pop()\n",
        "                temp = generate_temp()\n",
        "                temp_code.append(f\"{temp} = {operand1} {op} {operand2}\")\n",
        "                operand_stack.append(temp)\n",
        "            operator_stack.append(token)\n",
        "        elif token == 'and':\n",
        "            operand2 = operand_stack.pop()\n",
        "            operand1 = operand_stack.pop()\n",
        "            temp = generate_temp()\n",
        "            temp_code.append(f\"{temp} = {operand1} and {operand2}\")\n",
        "            operand_stack.append(temp)\n",
        "        elif token == 'or':\n",
        "            operand2 = operand_stack.pop()\n",
        "            operand1 = operand_stack.pop()\n",
        "            temp = generate_temp()\n",
        "            temp_code.append(f\"{temp} = {operand1} or {operand2}\")\n",
        "            operand_stack.append(temp)\n",
        "        elif token == '=':\n",
        "            if not assignment_target:\n",
        "                assignment_target = operand_stack.pop()\n",
        "            else:\n",
        "                print(\"Error: Invalid assignment syntax.\")\n",
        "                return None\n",
        "        elif token == '(':\n",
        "            operator_stack.append(token)\n",
        "        elif token == ')':\n",
        "            while operator_stack[-1] != '(':\n",
        "                op = operator_stack.pop()\n",
        "                operand2 = operand_stack.pop()\n",
        "                operand1 = operand_stack.pop()\n",
        "                temp = generate_temp()\n",
        "                temp_code.append(f\"{temp} = {operand1} {op} {operand2}\")\n",
        "                operand_stack.append(temp)\n",
        "            operator_stack.pop()  # Discard the '('\n",
        "\n",
        "    while operator_stack:\n",
        "        op = operator_stack.pop()\n",
        "        operand2 = operand_stack.pop()\n",
        "        operand1 = operand_stack.pop()\n",
        "        temp = generate_temp()\n",
        "        temp_code.append(f\"{temp} = {operand1} {op} {operand2}\")\n",
        "        operand_stack.append(temp)\n",
        "\n",
        "    if assignment_target:\n",
        "        if operand_stack:\n",
        "            result = operand_stack.pop()\n",
        "            temp_code.append(f\"{assignment_target} = {result}\")\n",
        "        else:\n",
        "            print(\"Error: No operand found for assignment.\")\n",
        "            return None\n",
        "    elif operand_stack:\n",
        "        result = operand_stack.pop()\n",
        "        temp_code.append(result)\n",
        "\n",
        "    return temp_code\n",
        "\n",
        "# Example expressions\n",
        "expressions = [\n",
        "    \"( a * b ) + ( c + d ) && ( x + y )\"\n",
        "]\n",
        "\n",
        "temp_counter = 1\n",
        "for expression in expressions:\n",
        "    three_address_code = generate_three_address_code(expression)\n",
        "    if three_address_code:\n",
        "        print(\"Three Address Code for expression:\", expression)\n",
        "        for code in three_address_code:\n",
        "            print(code)\n",
        "        print()\n"
      ],
      "metadata": {
        "colab": {
          "base_uri": "https://localhost:8080/"
        },
        "id": "d-6BOFrVHUtW",
        "outputId": "5f4a5d1f-ebf9-49ce-c874-1c41300a638e"
      },
      "execution_count": null,
      "outputs": [
        {
          "output_type": "stream",
          "name": "stdout",
          "text": [
            "Three Address Code for expression: ( a * b ) + ( c + d ) && ( x + y )\n",
            "temp1 = a * b\n",
            "temp2 = c + d\n",
            "temp3 = temp1 + temp2\n",
            "temp4 = x + y\n",
            "temp5 = temp3 && temp4\n",
            "temp5\n",
            "\n"
          ]
        }
      ]
    },
    {
      "cell_type": "code",
      "source": [],
      "metadata": {
        "id": "ppdEXcJOHU5p"
      },
      "execution_count": null,
      "outputs": []
    }
  ],
  "metadata": {
    "colab": {
      "provenance": []
    },
    "kernelspec": {
      "display_name": "Python 3",
      "name": "python3"
    },
    "language_info": {
      "name": "python"
    }
  },
  "nbformat": 4,
  "nbformat_minor": 0
}