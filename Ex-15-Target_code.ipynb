{
  "nbformat": 4,
  "nbformat_minor": 0,
  "metadata": {
    "colab": {
      "provenance": []
    },
    "kernelspec": {
      "name": "python3",
      "display_name": "Python 3"
    },
    "language_info": {
      "name": "python"
    }
  },
  "cells": [
    {
      "cell_type": "code",
      "execution_count": 1,
      "metadata": {
        "colab": {
          "base_uri": "https://localhost:8080/"
        },
        "id": "wwGzQ0bxtKGu",
        "outputId": "bb0eac31-bd38-4ea6-9105-21704df24f7c"
      },
      "outputs": [
        {
          "output_type": "stream",
          "name": "stdout",
          "text": [
            "Enter number of inputs:2\n",
            "Enter the 0 expession:a=b+c\n",
            "Enter the 1 expession:c=c+d\n",
            "LOAD R1,b\n",
            "LOAD R2,c\n",
            "ADD R1,R2\n",
            "STORE a,R1\n",
            "LOAD R3,c\n",
            "LOAD R4,d\n",
            "ADD R3,R4\n",
            "STORE c,R3\n"
          ]
        }
      ],
      "source": [
        "s=int(input('Enter number of inputs:'))\n",
        "e=[]\n",
        "r=1\n",
        "for i in range(s):\n",
        "    e.append(input(f'Enter the {i} expession:'))\n",
        "for i in range(s):\n",
        "    l=len(e[i])\n",
        "    for j in range(1,l):\n",
        "        if ord(e[i][j])>=97 and ord(e[i][j])<=122:\n",
        "            r=r+1\n",
        "            print(f'LOAD R{r-1},{e[i][j]}')\n",
        "        if j == l-1 and e[i][l-j] =='=':\n",
        "            j=3\n",
        "            if e[i][j]=='+':\n",
        "                print(f'ADD R{r-2},R{r-1}')\n",
        "                print(f'STORE {e[i][0]},R{r-2}')\n",
        "            elif e[i][j]=='-':\n",
        "                print(f'SUB R{r-2},R{r-1}')\n",
        "                print(f'STORE {e[i][0]},R{r-2}')\n",
        "            elif e[i][j]=='*':\n",
        "                print(f'MUL R{r-2},R{r-1}')\n",
        "                print(f'STORE {e[i][0]},R{r-2}')\n",
        "            elif e[i][j]=='/':\n",
        "                print(f'DIV R{r-2},R{r-1}')\n",
        "                print(f'STORE {e[i][0]},R{r-2}')\n",
        "                break"
      ]
    }
  ]
}